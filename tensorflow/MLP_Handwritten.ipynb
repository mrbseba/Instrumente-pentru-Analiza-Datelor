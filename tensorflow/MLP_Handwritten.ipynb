{
 "cells": [
  {
   "cell_type": "code",
   "execution_count": null,
   "id": "ec8cc369",
   "metadata": {},
   "outputs": [],
   "source": [
    "import matplotlib.pyplot as plt\n",
    "import matplotlib\n",
    "import pandas as pd\n",
    "import numpy as np\n",
    "from numpy import random as rnd"
   ]
  },
  {
   "cell_type": "code",
   "execution_count": null,
   "id": "75ad99bd",
   "metadata": {},
   "outputs": [],
   "source": [
    "# Importam datele\n",
    "df_data = pd.read_csv('https://datahub.io/machine-learning/mnist_784/r/mnist_784.csv')"
   ]
  },
  {
   "cell_type": "code",
   "execution_count": null,
   "id": "1d29bafc",
   "metadata": {},
   "outputs": [],
   "source": [
    "df_data.shape"
   ]
  },
  {
   "cell_type": "code",
   "execution_count": null,
   "id": "19c984d6",
   "metadata": {},
   "outputs": [],
   "source": [
    "col = df_data.columns.tolist()"
   ]
  },
  {
   "cell_type": "code",
   "execution_count": null,
   "id": "2c69681c",
   "metadata": {},
   "outputs": [],
   "source": [
    "df_X = df_data[col[0:-1]].astype(float)\n",
    "df_Y = df_data[col[-1]]"
   ]
  },
  {
   "cell_type": "code",
   "execution_count": null,
   "id": "0def9b0f",
   "metadata": {},
   "outputs": [],
   "source": [
    "X = np.array(df_X)\n",
    "Y = np.array(df_Y)"
   ]
  },
  {
   "cell_type": "code",
   "execution_count": null,
   "id": "5995c6ae",
   "metadata": {},
   "outputs": [],
   "source": [
    "# Vuzualizam un exemplar\n",
    "index = 1234\n",
    "im = X[index]\n",
    "im = np.reshape(im, (28, 28), order = \"A\")\n",
    "graymap = plt.get_cmap(\"gray\")\n",
    "fig1 = plt.figure()\n",
    "fig1 = plt.imshow(im, cmap = graymap, interpolation=\"None\")\n",
    "print(\"Label: \", Y[index])\n",
    "plt.show()"
   ]
  },
  {
   "cell_type": "code",
   "execution_count": null,
   "id": "5d5e99d2",
   "metadata": {},
   "outputs": [],
   "source": [
    " # Divizam datele in seturi de training si test\n",
    "from sklearn.model_selection import train_test_split\n",
    "X_train, X_test, Y_train, Y_test = train_test_split(X, Y, test_size=0.2, random_state=42)"
   ]
  },
  {
   "cell_type": "code",
   "execution_count": null,
   "id": "3961b2ed",
   "metadata": {},
   "outputs": [],
   "source": [
    "# Importam MLP si instrumentele de metrici\n",
    "from sklearn.neural_network import MLPClassifier\n",
    "from sklearn.metrics import classification_report\n",
    "from sklearn.metrics import accuracy_score"
   ]
  },
  {
   "cell_type": "code",
   "execution_count": null,
   "id": "107ba274",
   "metadata": {},
   "outputs": [],
   "source": [
    "mlp = MLPClassifier(solver=\"adam\")\n",
    "mlp.hidden_layer_sizes = (5,)\n",
    "mlp.activation = \"tanh\"\n",
    "mlp.random_state = 1234\n",
    "mlp.max_iter = 10000"
   ]
  },
  {
   "cell_type": "code",
   "execution_count": null,
   "id": "a1ded6ed",
   "metadata": {},
   "outputs": [],
   "source": [
    "mlp.fit(X_train, Y_train)"
   ]
  },
  {
   "cell_type": "code",
   "execution_count": null,
   "id": "f7ab03e3",
   "metadata": {},
   "outputs": [],
   "source": [
    "fig_mlp = plt.figure()\n",
    "ax1 = fig_mlp.add_subplot(111)\n",
    "ax1.plot(mlp.loss_curve_)\n",
    "ax1.set(title=\"Loss curve\", xlabel=\"Epoch\", ylabel=\"Loss\")\n",
    "plt.show()\n",
    "print('Loss: \\t\\t', mlp.loss_)\n",
    "print('Iterations: \\t', mlp.n_iter_)"
   ]
  },
  {
   "cell_type": "code",
   "execution_count": null,
   "id": "4f0a466b",
   "metadata": {},
   "outputs": [],
   "source": [
    "print('Accuracy: ', accuracy_score(Y_test, mlp.predict(X_test)), '\\n')\n",
    "print(classification_report(Y_test, mlp.predict(X_test)))"
   ]
  },
  {
   "cell_type": "code",
   "execution_count": null,
   "id": "f4479139",
   "metadata": {},
   "outputs": [],
   "source": []
  }
 ],
 "metadata": {
  "kernelspec": {
   "display_name": "Python 3 (ipykernel)",
   "language": "python",
   "name": "python3"
  },
  "language_info": {
   "codemirror_mode": {
    "name": "ipython",
    "version": 3
   },
   "file_extension": ".py",
   "mimetype": "text/x-python",
   "name": "python",
   "nbconvert_exporter": "python",
   "pygments_lexer": "ipython3",
   "version": "3.8.1"
  }
 },
 "nbformat": 4,
 "nbformat_minor": 5
}
