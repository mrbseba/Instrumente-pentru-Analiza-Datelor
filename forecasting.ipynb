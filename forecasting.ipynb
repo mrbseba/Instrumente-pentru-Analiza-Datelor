{
 "cells": [
  {
   "cell_type": "markdown",
   "id": "eedc3672",
   "metadata": {},
   "source": [
    "### forecasting on mastercard data - 21 years - date and highe price\n",
    "Forecasting is the process of making predictions or estimates about future events or conditions based on past and present data, trends, and patterns. It is used in a wide range of fields such as business, economics, finance, and weather forecasting, among others."
   ]
  },
  {
   "cell_type": "code",
   "execution_count": 2,
   "id": "834fc4ef",
   "metadata": {},
   "outputs": [],
   "source": [
    "import pandas as pd\n",
    "import numpy as np"
   ]
  },
  {
   "cell_type": "code",
   "execution_count": 39,
   "id": "1a470229",
   "metadata": {},
   "outputs": [],
   "source": [
    "df = pd.read_csv('master_stock.csv')"
   ]
  },
  {
   "cell_type": "code",
   "execution_count": 40,
   "id": "676f311c",
   "metadata": {},
   "outputs": [
    {
     "data": {
      "text/html": [
       "<div>\n",
       "<style scoped>\n",
       "    .dataframe tbody tr th:only-of-type {\n",
       "        vertical-align: middle;\n",
       "    }\n",
       "\n",
       "    .dataframe tbody tr th {\n",
       "        vertical-align: top;\n",
       "    }\n",
       "\n",
       "    .dataframe thead th {\n",
       "        text-align: right;\n",
       "    }\n",
       "</style>\n",
       "<table border=\"1\" class=\"dataframe\">\n",
       "  <thead>\n",
       "    <tr style=\"text-align: right;\">\n",
       "      <th></th>\n",
       "      <th>Date</th>\n",
       "      <th>Open</th>\n",
       "      <th>High</th>\n",
       "      <th>Low</th>\n",
       "      <th>Close</th>\n",
       "      <th>Volume</th>\n",
       "      <th>Dividends</th>\n",
       "      <th>Stock Splits</th>\n",
       "    </tr>\n",
       "  </thead>\n",
       "  <tbody>\n",
       "    <tr>\n",
       "      <th>0</th>\n",
       "      <td>2006-05-25</td>\n",
       "      <td>3.748967</td>\n",
       "      <td>4.283869</td>\n",
       "      <td>3.739664</td>\n",
       "      <td>4.279217</td>\n",
       "      <td>395343000</td>\n",
       "      <td>0.0</td>\n",
       "      <td>0.0</td>\n",
       "    </tr>\n",
       "    <tr>\n",
       "      <th>1</th>\n",
       "      <td>2006-05-26</td>\n",
       "      <td>4.307126</td>\n",
       "      <td>4.348058</td>\n",
       "      <td>4.103398</td>\n",
       "      <td>4.179680</td>\n",
       "      <td>103044000</td>\n",
       "      <td>0.0</td>\n",
       "      <td>0.0</td>\n",
       "    </tr>\n",
       "    <tr>\n",
       "      <th>2</th>\n",
       "      <td>2006-05-30</td>\n",
       "      <td>4.183400</td>\n",
       "      <td>4.184330</td>\n",
       "      <td>3.986184</td>\n",
       "      <td>4.093164</td>\n",
       "      <td>49898000</td>\n",
       "      <td>0.0</td>\n",
       "      <td>0.0</td>\n",
       "    </tr>\n",
       "    <tr>\n",
       "      <th>3</th>\n",
       "      <td>2006-05-31</td>\n",
       "      <td>4.125723</td>\n",
       "      <td>4.219679</td>\n",
       "      <td>4.125723</td>\n",
       "      <td>4.180608</td>\n",
       "      <td>30002000</td>\n",
       "      <td>0.0</td>\n",
       "      <td>0.0</td>\n",
       "    </tr>\n",
       "    <tr>\n",
       "      <th>4</th>\n",
       "      <td>2006-06-01</td>\n",
       "      <td>4.179678</td>\n",
       "      <td>4.474572</td>\n",
       "      <td>4.176887</td>\n",
       "      <td>4.419686</td>\n",
       "      <td>62344000</td>\n",
       "      <td>0.0</td>\n",
       "      <td>0.0</td>\n",
       "    </tr>\n",
       "  </tbody>\n",
       "</table>\n",
       "</div>"
      ],
      "text/plain": [
       "         Date      Open      High       Low     Close     Volume  Dividends  \\\n",
       "0  2006-05-25  3.748967  4.283869  3.739664  4.279217  395343000        0.0   \n",
       "1  2006-05-26  4.307126  4.348058  4.103398  4.179680  103044000        0.0   \n",
       "2  2006-05-30  4.183400  4.184330  3.986184  4.093164   49898000        0.0   \n",
       "3  2006-05-31  4.125723  4.219679  4.125723  4.180608   30002000        0.0   \n",
       "4  2006-06-01  4.179678  4.474572  4.176887  4.419686   62344000        0.0   \n",
       "\n",
       "   Stock Splits  \n",
       "0           0.0  \n",
       "1           0.0  \n",
       "2           0.0  \n",
       "3           0.0  \n",
       "4           0.0  "
      ]
     },
     "execution_count": 40,
     "metadata": {},
     "output_type": "execute_result"
    }
   ],
   "source": [
    "df.head()"
   ]
  },
  {
   "cell_type": "code",
   "execution_count": 41,
   "id": "9b7a4e5b",
   "metadata": {},
   "outputs": [
    {
     "name": "stdout",
     "output_type": "stream",
     "text": [
      "<class 'pandas.core.frame.DataFrame'>\n",
      "RangeIndex: 3872 entries, 0 to 3871\n",
      "Data columns (total 8 columns):\n",
      " #   Column        Non-Null Count  Dtype  \n",
      "---  ------        --------------  -----  \n",
      " 0   Date          3872 non-null   object \n",
      " 1   Open          3872 non-null   float64\n",
      " 2   High          3872 non-null   float64\n",
      " 3   Low           3872 non-null   float64\n",
      " 4   Close         3872 non-null   float64\n",
      " 5   Volume        3872 non-null   int64  \n",
      " 6   Dividends     3872 non-null   float64\n",
      " 7   Stock Splits  3872 non-null   float64\n",
      "dtypes: float64(6), int64(1), object(1)\n",
      "memory usage: 242.1+ KB\n"
     ]
    }
   ],
   "source": [
    "df.info()"
   ]
  },
  {
   "cell_type": "code",
   "execution_count": 59,
   "id": "57493fcd",
   "metadata": {},
   "outputs": [],
   "source": [
    "# convert the date column to datetime objects\n",
    "df['Date'] = pd.to_datetime(df['Date'])\n",
    "\n",
    "# convert the datetime objects to integer values\n",
    "df['Date'] = df['Date'].apply(lambda x: pd.Timestamp(x).timestamp())"
   ]
  },
  {
   "cell_type": "code",
   "execution_count": 61,
   "id": "250f700a",
   "metadata": {},
   "outputs": [],
   "source": [
    "new_df = df[['Date', 'High']]"
   ]
  },
  {
   "cell_type": "code",
   "execution_count": 62,
   "id": "4505e71b",
   "metadata": {},
   "outputs": [
    {
     "data": {
      "text/html": [
       "<div>\n",
       "<style scoped>\n",
       "    .dataframe tbody tr th:only-of-type {\n",
       "        vertical-align: middle;\n",
       "    }\n",
       "\n",
       "    .dataframe tbody tr th {\n",
       "        vertical-align: top;\n",
       "    }\n",
       "\n",
       "    .dataframe thead th {\n",
       "        text-align: right;\n",
       "    }\n",
       "</style>\n",
       "<table border=\"1\" class=\"dataframe\">\n",
       "  <thead>\n",
       "    <tr style=\"text-align: right;\">\n",
       "      <th></th>\n",
       "      <th>Date</th>\n",
       "      <th>High</th>\n",
       "    </tr>\n",
       "  </thead>\n",
       "  <tbody>\n",
       "    <tr>\n",
       "      <th>0</th>\n",
       "      <td>1.148515</td>\n",
       "      <td>4.283869</td>\n",
       "    </tr>\n",
       "    <tr>\n",
       "      <th>1</th>\n",
       "      <td>1.148602</td>\n",
       "      <td>4.348058</td>\n",
       "    </tr>\n",
       "    <tr>\n",
       "      <th>2</th>\n",
       "      <td>1.148947</td>\n",
       "      <td>4.184330</td>\n",
       "    </tr>\n",
       "    <tr>\n",
       "      <th>3</th>\n",
       "      <td>1.149034</td>\n",
       "      <td>4.219679</td>\n",
       "    </tr>\n",
       "    <tr>\n",
       "      <th>4</th>\n",
       "      <td>1.149120</td>\n",
       "      <td>4.474572</td>\n",
       "    </tr>\n",
       "  </tbody>\n",
       "</table>\n",
       "</div>"
      ],
      "text/plain": [
       "       Date      High\n",
       "0  1.148515  4.283869\n",
       "1  1.148602  4.348058\n",
       "2  1.148947  4.184330\n",
       "3  1.149034  4.219679\n",
       "4  1.149120  4.474572"
      ]
     },
     "execution_count": 62,
     "metadata": {},
     "output_type": "execute_result"
    }
   ],
   "source": [
    "new_df.head(5)"
   ]
  },
  {
   "cell_type": "code",
   "execution_count": 63,
   "id": "8c060a1a",
   "metadata": {},
   "outputs": [],
   "source": [
    "new_df.set_index('Date', drop=True, inplace=True)"
   ]
  },
  {
   "cell_type": "code",
   "execution_count": 64,
   "id": "d2ac6085",
   "metadata": {},
   "outputs": [
    {
     "data": {
      "text/html": [
       "<div>\n",
       "<style scoped>\n",
       "    .dataframe tbody tr th:only-of-type {\n",
       "        vertical-align: middle;\n",
       "    }\n",
       "\n",
       "    .dataframe tbody tr th {\n",
       "        vertical-align: top;\n",
       "    }\n",
       "\n",
       "    .dataframe thead th {\n",
       "        text-align: right;\n",
       "    }\n",
       "</style>\n",
       "<table border=\"1\" class=\"dataframe\">\n",
       "  <thead>\n",
       "    <tr style=\"text-align: right;\">\n",
       "      <th></th>\n",
       "      <th>High</th>\n",
       "    </tr>\n",
       "    <tr>\n",
       "      <th>Date</th>\n",
       "      <th></th>\n",
       "    </tr>\n",
       "  </thead>\n",
       "  <tbody>\n",
       "    <tr>\n",
       "      <th>1.148515</th>\n",
       "      <td>4.283869</td>\n",
       "    </tr>\n",
       "    <tr>\n",
       "      <th>1.148602</th>\n",
       "      <td>4.348058</td>\n",
       "    </tr>\n",
       "    <tr>\n",
       "      <th>1.148947</th>\n",
       "      <td>4.184330</td>\n",
       "    </tr>\n",
       "    <tr>\n",
       "      <th>1.149034</th>\n",
       "      <td>4.219679</td>\n",
       "    </tr>\n",
       "    <tr>\n",
       "      <th>1.149120</th>\n",
       "      <td>4.474572</td>\n",
       "    </tr>\n",
       "    <tr>\n",
       "      <th>...</th>\n",
       "      <td>...</td>\n",
       "    </tr>\n",
       "    <tr>\n",
       "      <th>1.633392</th>\n",
       "      <td>348.130138</td>\n",
       "    </tr>\n",
       "    <tr>\n",
       "      <th>1.633478</th>\n",
       "      <td>348.439763</td>\n",
       "    </tr>\n",
       "    <tr>\n",
       "      <th>1.633565</th>\n",
       "      <td>357.899994</td>\n",
       "    </tr>\n",
       "    <tr>\n",
       "      <th>1.633651</th>\n",
       "      <td>360.369995</td>\n",
       "    </tr>\n",
       "    <tr>\n",
       "      <th>1.633910</th>\n",
       "      <td>354.880005</td>\n",
       "    </tr>\n",
       "  </tbody>\n",
       "</table>\n",
       "<p>3872 rows × 1 columns</p>\n",
       "</div>"
      ],
      "text/plain": [
       "                High\n",
       "Date                \n",
       "1.148515    4.283869\n",
       "1.148602    4.348058\n",
       "1.148947    4.184330\n",
       "1.149034    4.219679\n",
       "1.149120    4.474572\n",
       "...              ...\n",
       "1.633392  348.130138\n",
       "1.633478  348.439763\n",
       "1.633565  357.899994\n",
       "1.633651  360.369995\n",
       "1.633910  354.880005\n",
       "\n",
       "[3872 rows x 1 columns]"
      ]
     },
     "execution_count": 64,
     "metadata": {},
     "output_type": "execute_result"
    }
   ],
   "source": [
    "new_df"
   ]
  },
  {
   "cell_type": "code",
   "execution_count": 65,
   "id": "401d15b5",
   "metadata": {},
   "outputs": [
    {
     "data": {
      "image/png": "[encoded data removed]",
      "text/plain": [
       "<Figure size 432x288 with 1 Axes>"
      ]
     },
     "metadata": {
      "needs_background": "light"
     },
     "output_type": "display_data"
    }
   ],
   "source": [
    "import pandas as pd\n",
    "import matplotlib.pyplot as plt\n",
    "\n",
    "# load data\n",
    "df = pd.read_csv('master_stock.csv')\n",
    "df['Date'] = pd.to_datetime(df['Date'])\n",
    "\n",
    "# create plot\n",
    "plt.plot(df['Date'], df['High'])\n",
    "plt.title('Stock High Prices')\n",
    "plt.xlabel('Date')\n",
    "plt.ylabel('Price')\n",
    "plt.show()\n"
   ]
  },
  {
   "cell_type": "code",
   "execution_count": null,
   "id": "e68aa771",
   "metadata": {},
   "outputs": [],
   "source": []
  }
 ],
 "metadata": {
  "kernelspec": {
   "display_name": "Python 3 (ipykernel)",
   "language": "python",
   "name": "python3"
  },
  "language_info": {
   "codemirror_mode": {
    "name": "ipython",
    "version": 3
   },
   "file_extension": ".py",
   "mimetype": "text/x-python",
   "name": "python",
   "nbconvert_exporter": "python",
   "pygments_lexer": "ipython3",
   "version": "3.10.2"
  }
 },
 "nbformat": 4,
 "nbformat_minor": 5
}
